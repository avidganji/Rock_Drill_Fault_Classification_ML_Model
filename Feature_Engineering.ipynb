{
 "cells": [
  {
   "cell_type": "code",
   "execution_count": 1,
   "metadata": {},
   "outputs": [],
   "source": [
    "import pandas as pd \n",
    "import numpy as np\n",
    "import os"
   ]
  },
  {
   "cell_type": "code",
   "execution_count": 2,
   "metadata": {},
   "outputs": [],
   "source": [
    "# Read the CSV file containing the feature data into a DataFrame\n",
    "df = pd.read_csv('/Users//sarithavuppula//Downloads/Summer School/final_version_data.csv')\n",
    "# Remove the first column (assuming it's an unnecessary index column)\n",
    "df = df.iloc[:,1:]"
   ]
  },
  {
   "cell_type": "code",
   "execution_count": 6,
   "metadata": {},
   "outputs": [
    {
     "name": "stderr",
     "output_type": "stream",
     "text": [
      "100%|██████████| 5/5 [00:43<00:00,  8.78s/it]\n"
     ]
    }
   ],
   "source": [
    "from tqdm import tqdm\n",
    "# For displaying a progress bar during iterations\n",
    "from scipy.stats import kurtosis\n",
    "# For calculating the kurtosis of the data\n",
    "\n",
    "# Define the column names for the feature DataFrame\n",
    "colnames = ['cycle', 'condition', 'mode',\n",
    "            'pin_mean', 'po_mean', 'pdmp_mean',\n",
    "            'pin_var', 'po_var', 'pdmp_var',\n",
    "            'pin_kurtosis', 'po_kurtosis', 'pdmp_kurtosis']\n",
    "\n",
    "# Initialize an empty array to hold the extracted features\n",
    "features = np.empty((0, len(colnames)))\n",
    "\n",
    "# Iterate over each unique condition in the DataFrame\n",
    "for condition in tqdm(df['condition'].unique()):\n",
    "    condition_df = df[df.condition == condition]  # Filter the DataFrame for the current condition\n",
    "    \n",
    "    # Iterate over each unique mode within the current condition\n",
    "    for mode in condition_df['mode'].unique():\n",
    "        mode_df = condition_df[condition_df['mode'] == mode]  # Filter the DataFrame for the current mode\n",
    "        \n",
    "        # Iterate over each unique cycle within the current mode\n",
    "        for cycle in mode_df['cycle'].unique():    \n",
    "            cycle_df = mode_df[mode_df.cycle == cycle]  # Filter the DataFrame for the current cycle\n",
    "            \n",
    "            # Calculate the mean values for the 'pin', 'po', and 'pdmp' columns\n",
    "            mean_vals = np.mean(cycle_df[['pin', 'po', 'pdmp']], axis=0).tolist()\n",
    "            \n",
    "            # Calculate the variance values for the 'pin', 'po', and 'pdmp' columns\n",
    "            variance_vals = np.var(cycle_df[['pin', 'po', 'pdmp']], axis=0).tolist()\n",
    "            \n",
    "            # Calculate the kurtosis values for the 'pin', 'po', and 'pdmp' columns\n",
    "            kurtosis_vals = kurtosis(cycle_df[['pin', 'po', 'pdmp']]).tolist()\n",
    "            \n",
    "            # Extract meta data (cycle, condition, mode) for the current cycle\n",
    "            meta_data = [np.unique(cycle_df['cycle'])[0], np.unique(cycle_df['condition'])[0], np.unique(cycle_df['mode'])[0]]\n",
    "            \n",
    "            # Combine meta data and calculated features into a single array\n",
    "            feature = np.array(meta_data + mean_vals + variance_vals + kurtosis_vals).reshape(1, -1)\n",
    "            \n",
    "            # Concatenate the current feature array with the overall features array\n",
    "            features = np.concatenate([features, feature], axis=0)\n",
    "\n",
    "# Convert the features array to a DataFrame with specified column names\n",
    "features = pd.DataFrame(features, columns=colnames)\n",
    "\n",
    "# Convert 'cycle', 'condition', and 'mode' columns to integer data types\n",
    "features[['cycle', 'condition', 'mode']] = features[['cycle', 'condition', 'mode']].astype(int)\n",
    "\n",
    "# Save the final features DataFrame to a CSV file (commented out)\n",
    "features.to_csv('/Users//sarithavuppula//Downloads/Summer School/feature_engineering_data_final_version.csv', index=None)"
   ]
  },
  {
   "cell_type": "code",
   "execution_count": 4,
   "metadata": {},
   "outputs": [
    {
     "name": "stdout",
     "output_type": "stream",
     "text": [
      "Defaulting to user installation because normal site-packages is not writeable\n",
      "Collecting tqdm\n",
      "  Downloading tqdm-4.66.4-py3-none-any.whl (78 kB)\n",
      "\u001b[K     |████████████████████████████████| 78 kB 7.0 MB/s eta 0:00:01\n",
      "\u001b[?25hInstalling collected packages: tqdm\n",
      "Successfully installed tqdm-4.66.4\n",
      "\u001b[33mWARNING: You are using pip version 21.2.4; however, version 24.1.2 is available.\n",
      "You should consider upgrading via the '/Library/Developer/CommandLineTools/usr/bin/python3 -m pip install --upgrade pip' command.\u001b[0m\n",
      "Note: you may need to restart the kernel to use updated packages.\n"
     ]
    }
   ],
   "source": [
    "pip install tqdm"
   ]
  }
 ],
 "metadata": {
  "kernelspec": {
   "display_name": "base",
   "language": "python",
   "name": "python3"
  },
  "language_info": {
   "codemirror_mode": {
    "name": "ipython",
    "version": 3
   },
   "file_extension": ".py",
   "mimetype": "text/x-python",
   "name": "python",
   "nbconvert_exporter": "python",
   "pygments_lexer": "ipython3",
   "version": "3.9.6"
  }
 },
 "nbformat": 4,
 "nbformat_minor": 2
}
