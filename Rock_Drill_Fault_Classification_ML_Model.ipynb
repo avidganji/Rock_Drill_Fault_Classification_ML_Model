{
 "cells": [
  {
   "cell_type": "code",
   "execution_count": 14,
   "metadata": {},
   "outputs": [
    {
     "name": "stderr",
     "output_type": "stream",
     "text": [
      "Extracting features: 100%|██████████| 34045/34045 [00:12<00:00, 2641.16it/s]\n"
     ]
    }
   ],
   "source": [
    "import pandas as pd\n",
    "import numpy as np\n",
    "from sklearn.ensemble import RandomForestClassifier\n",
    "from sklearn.model_selection import train_test_split, GridSearchCV, cross_val_score\n",
    "from sklearn.preprocessing import StandardScaler\n",
    "from sklearn.metrics import accuracy_score, confusion_matrix, classification_report\n",
    "from imblearn.over_sampling import SMOTE\n",
    "import seaborn as sns\n",
    "import matplotlib.pyplot as plt\n",
    "from tqdm import tqdm\n",
    "\n",
    "# Define the remove_outliers function\n",
    "def remove_outliers(df, columns):\n",
    "    for col in columns:\n",
    "        q1 = df[col].quantile(0.25)\n",
    "        q3 = df[col].quantile(0.75)\n",
    "        iqr = q3 - q1\n",
    "        lower_bound = q1 - 1.5 * iqr\n",
    "        upper_bound = q3 + 1.5 * iqr\n",
    "        df = df[(df[col] >= lower_bound) & (df[col] <= upper_bound)]\n",
    "    return df\n",
    "\n",
    "# Load the dataset\n",
    "df = pd.read_csv('/Users/sarithavuppula/Downloads/Summer School/final_version_data.csv')\n",
    "\n",
    "# Remove outliers\n",
    "df = remove_outliers(df, ['pin', 'po', 'pdmp'])\n",
    "\n",
    "# Feature extraction with tqdm to track progress\n",
    "def extract_features(df):\n",
    "    features = []\n",
    "    for _, group in tqdm(df.groupby(['condition', 'mode', 'cycle']), desc=\"Extracting features\"):\n",
    "        pin_mean = group['pin'].mean()\n",
    "        po_mean = group['po'].mean()\n",
    "        pdmp_mean = group['pdmp'].mean()\n",
    "        pin_var = group['pin'].var()\n",
    "        po_var = group['po'].var()\n",
    "        pdmp_var = group['pdmp'].var()\n",
    "        pin_skew = group['pin'].skew()\n",
    "        po_skew = group['po'].skew()\n",
    "        pdmp_skew = group['pdmp'].skew()\n",
    "        pin_kurt = group['pin'].kurtosis()\n",
    "        po_kurt = group['po'].kurtosis()\n",
    "        pdmp_kurt = group['pdmp'].kurtosis()\n",
    "        features.append([group['cycle'].iloc[0], group['condition'].iloc[0], group['mode'].iloc[0], \n",
    "                        pin_mean, po_mean, pdmp_mean, pin_var, po_var, pdmp_var, \n",
    "                         pin_skew, po_skew, pdmp_skew, pin_kurt, po_kurt, pdmp_kurt])\n",
    "    return pd.DataFrame(features, columns=['cycle', 'condition', 'mode', \n",
    "                                           'pin_mean', 'po_mean', 'pdmp_mean', \n",
    "                                           'pin_var', 'po_var', 'pdmp_var', \n",
    "                                           'pin_skew', 'po_skew', 'pdmp_skew',\n",
    "                                           'pin_kurt', 'po_kurt', 'pdmp_kurt'])\n",
    "\n",
    "features_df = extract_features(df)\n",
    "\n",
    "# Normalize features\n",
    "scaler = StandardScaler()\n",
    "X = features_df.iloc[:, 3:]\n",
    "y = features_df['mode']\n",
    "\n",
    "X_scaled = scaler.fit_transform(X)\n",
    "\n",
    "# Address class imbalance with SMOTE\n",
    "smote = SMOTE(random_state=42)\n",
    "X_resampled, y_resampled = smote.fit_resample(X_scaled, y)\n",
    "\n",
    "# Split data\n",
    "X_train, X_test, y_train, y_test = train_test_split(X_resampled, y_resampled, test_size=0.2, random_state=42)\n"
   ]
  },
  {
   "cell_type": "code",
   "execution_count": null,
   "metadata": {},
   "outputs": [],
   "source": [
    "# Save the preprocessed features for later use\n",
    "df_sample.to_csv('/Users/sarithavuppula/Downloads/Summer School/preprocessed_features.csv', index=False)"
   ]
  },
  {
   "cell_type": "code",
   "execution_count": 15,
   "metadata": {},
   "outputs": [
    {
     "name": "stderr",
     "output_type": "stream",
     "text": [
      "Hyperparameter Tuning:  12%|█▎        | 1/8 [00:40<04:43, 40.55s/it]\n"
     ]
    },
    {
     "name": "stdout",
     "output_type": "stream",
     "text": [
      "Cross-Validation Accuracy: 0.8685 ± 0.0615\n",
      "Model Accuracy: 0.9354\n",
      "              precision    recall  f1-score   support\n",
      "\n",
      "           1       0.85      0.83      0.84       678\n",
      "           2       1.00      1.00      1.00       687\n",
      "           3       0.95      0.97      0.96       716\n",
      "           4       1.00      1.00      1.00       672\n",
      "           5       0.84      0.86      0.85       722\n",
      "           6       0.99      1.00      0.99       665\n",
      "           7       0.91      0.91      0.91       720\n",
      "           8       0.89      0.87      0.88       715\n",
      "           9       0.97      0.96      0.96       707\n",
      "          10       0.90      0.91      0.91       691\n",
      "          11       1.00      1.00      1.00       710\n",
      "\n",
      "    accuracy                           0.94      7683\n",
      "   macro avg       0.94      0.94      0.94      7683\n",
      "weighted avg       0.94      0.94      0.94      7683\n",
      "\n"
     ]
    },
    {
     "name": "stderr",
     "output_type": "stream",
     "text": [
      "/var/folders/k2/z0y8sm_n3g5599d_f49bcqbm0000gn/T/ipykernel_93158/2462729590.py:41: UserWarning: FigureCanvasAgg is non-interactive, and thus cannot be shown\n",
      "  plt.show()\n"
     ]
    }
   ],
   "source": [
    "# Simplified Hyperparameter tuning for RandomForest with tqdm to track progress\n",
    "param_grid = {\n",
    "    'n_estimators': [100, 150],  # Reduced number of estimators\n",
    "    'max_depth': [10, 15],       # Fewer depth options\n",
    "    'min_samples_split': [2, 5], # Fewer options for splits\n",
    "}\n",
    "\n",
    "# Initialize GridSearchCV with fewer options and tqdm progress tracking\n",
    "grid_search = GridSearchCV(estimator=RandomForestClassifier(random_state=42), \n",
    "                           param_grid=param_grid, \n",
    "                           cv=3,  # Reduced to 3 folds\n",
    "                           n_jobs=-1, \n",
    "                           verbose=0)\n",
    "\n",
    "# Fit the model with progress tracking\n",
    "with tqdm(total=len(param_grid['n_estimators']) * len(param_grid['max_depth']) * \n",
    "          len(param_grid['min_samples_split']), desc=\"Hyperparameter Tuning\") as pbar:\n",
    "    grid_search.fit(X_train, y_train)\n",
    "    pbar.update()\n",
    "\n",
    "# Best model from grid search\n",
    "best_model = grid_search.best_estimator_\n",
    "\n",
    "# Cross-validation for robustness\n",
    "cv_scores = cross_val_score(best_model, X_resampled, y_resampled, cv=3)\n",
    "print(f\"Cross-Validation Accuracy: {np.mean(cv_scores):.4f} ± {np.std(cv_scores):.4f}\")\n",
    "\n",
    "# Predict on the test set\n",
    "y_pred = best_model.predict(X_test)\n",
    "\n",
    "# Evaluate the model\n",
    "accuracy = accuracy_score(y_test, y_pred)\n",
    "print(f\"Model Accuracy: {accuracy:.4f}\")\n",
    "\n",
    "# Display the confusion matrix\n",
    "conf_matrix = confusion_matrix(y_test, y_pred)\n",
    "sns.heatmap(conf_matrix, annot=True, fmt='d', cmap='Blues')\n",
    "plt.title('Confusion Matrix for Fault Classification')\n",
    "plt.xlabel('Predicted')\n",
    "plt.ylabel('Actual')\n",
    "plt.show()\n",
    "\n",
    "# Print detailed classification report\n",
    "print(classification_report(y_test, y_pred))"
   ]
  },
  {
   "cell_type": "code",
   "execution_count": 12,
   "metadata": {},
   "outputs": [],
   "source": [
    "# Function to preprocess and apply the model to new data\n",
    "def apply_model_to_new_data(new_data_path, model, scaler):\n",
    "    # Load new data\n",
    "    new_df = pd.read_csv(new_data_path)\n",
    "\n",
    "    # Preprocess the new data (similar to the steps above)\n",
    "    new_features_df = extract_features(new_df)\n",
    "    X_new = new_features_df.iloc[:, 3:]  # Use the extracted features\n",
    "    X_new_scaled = scaler.transform(X_new)  # Normalize the new data\n",
    "\n",
    "    # Predict using the trained model\n",
    "    y_new_pred = model.predict(X_new_scaled)\n",
    "\n",
    "    # Add predictions to the new dataframe\n",
    "    new_features_df['predicted_mode'] = y_new_pred\n",
    "\n",
    "    # Save predictions\n",
    "    new_features_df.to_csv('/Users/sarithavuppula/Downloads/Summer School/new_data_predictions.csv', index=False)\n",
    "    print(\"Predictions saved to new_data_predictions.csv\")"
   ]
  },
  {
   "cell_type": "code",
   "execution_count": null,
   "metadata": {},
   "outputs": [],
   "source": [
    "# Apply the model to new data\n",
    "new_data_path = '/Users/sarithavuppula/Downloads/Data_Challenge_PHM2022_validation_data 2/data_pdmp7.csv'  # Replace with your actual path \n",
    "apply_model_to_new_data(new_data_path, model, scaler)"
   ]
  },
  {
   "cell_type": "code",
   "execution_count": 16,
   "metadata": {},
   "outputs": [],
   "source": [
    "import streamlit as st\n",
    "\n",
    "st.title(\"Simple Streamlit App\")\n",
    "st.write(\"This is a simple example of a Streamlit app.\")"
   ]
  }
 ],
 "metadata": {
  "kernelspec": {
   "display_name": "Python 3",
   "language": "python",
   "name": "python3"
  },
  "language_info": {
   "codemirror_mode": {
    "name": "ipython",
    "version": 3
   },
   "file_extension": ".py",
   "mimetype": "text/x-python",
   "name": "python",
   "nbconvert_exporter": "python",
   "pygments_lexer": "ipython3",
   "version": "3.9.6"
  }
 },
 "nbformat": 4,
 "nbformat_minor": 2
}
