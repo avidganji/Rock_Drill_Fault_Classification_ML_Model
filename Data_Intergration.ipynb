{
 "cells": [
  {
   "cell_type": "code",
   "execution_count": 1,
   "metadata": {},
   "outputs": [],
   "source": [
    "import pandas as pd \n",
    "import numpy as np\n",
    "from glob import glob \n",
    "# For file handling, specifically to retrieve file paths matching a specified pattern\n",
    "import os\n",
    "# For interacting with the operating system, such as file path manipulations"
   ]
  },
  {
   "cell_type": "code",
   "execution_count": 2,
   "metadata": {},
   "outputs": [],
   "source": [
    "# Retrieve all CSV file paths from the specified directory\n",
    "files = glob('/Users/sarithavuppula/Downloads/Data_Challenge_PHM2022_training_data 2/*.csv')"
   ]
  },
  {
   "cell_type": "code",
   "execution_count": 3,
   "metadata": {},
   "outputs": [],
   "source": [
    "# Filter the files to categorize them by their measurement types: pin, po, and pdmp\n",
    "pin_files = [file for file in files if 'data_pin' in file]\n",
    "po_files = [file for file in files if 'data_po' in file]\n",
    "pdmp_files = [file for file in files if 'data_pdmp' in file]"
   ]
  },
  {
   "cell_type": "code",
   "execution_count": 4,
   "metadata": {},
   "outputs": [],
   "source": [
    "# Function to read a file and process its data into a DataFrame\n",
    "def read_file(file_path, column='pin'):\n",
    "    lines = [] # List to store each line from the file\n",
    "    with open(file_path, 'r', encoding='utf-8') as file:\n",
    "        for line in file:\n",
    "            lines.append(line.strip()) # Read and strip each line, then append to the list\n",
    "            \n",
    "    # Extract the fault mode from each line\n",
    "    fault_mode_list = [line.split(',')[0] for line in lines] \n",
    "    # Initialize lists to store measurements, cycles, modes, and conditions\n",
    "    measurement_list = []\n",
    "    cycle_list = []\n",
    "    mode_list = []\n",
    "    condition_list = []\n",
    "    cycle = 1\n",
    "    for line in lines:\n",
    "        for mode in np.unique(fault_mode_list): # Iterate over each unique fault mode\n",
    "            if line.split(',')[0] == mode:\n",
    "                # Append measurements, cycle number, mode, and condition to respective lists\n",
    "                measurement_list += line.split(',')[1:]\n",
    "                cycle_list += [cycle]*len(line.split(',')[1:])\n",
    "                mode_list += [mode]*len(line.split(',')[1:])\n",
    "                condition_list += [file_path[-5]] * len(line.split(',')[1:])\n",
    "            \n",
    "                cycle+=1 # Increment cycle counter\n",
    "    # Create a DataFrame from the lists, with specified columns    \n",
    "    data = pd.DataFrame(np.concatenate([np.array(cycle_list).reshape(-1,1), np.array(mode_list).reshape(-1,1),  np.array(condition_list).reshape(-1,1), np.array(measurement_list).reshape(-1,1)], axis=1), columns=['cycle', 'mode', 'condition', column])                \n",
    "\n",
    "    return data"
   ]
  },
  {
   "cell_type": "code",
   "execution_count": 5,
   "metadata": {},
   "outputs": [
    {
     "ename": "TypeError",
     "evalue": "Cannot interpolate with all object-dtype columns in the DataFrame. Try setting at least one column to a numeric dtype.",
     "output_type": "error",
     "traceback": [
      "\u001b[0;31m---------------------------------------------------------------------------\u001b[0m",
      "\u001b[0;31mTypeError\u001b[0m                                 Traceback (most recent call last)",
      "\u001b[0;32m/var/folders/k2/z0y8sm_n3g5599d_f49bcqbm0000gn/T/ipykernel_22296/694430563.py\u001b[0m in \u001b[0;36m?\u001b[0;34m()\u001b[0m\n\u001b[0;32m---> 29\u001b[0;31m \u001b[0;31m# Initialize empty DataFrames to store integrated measurements\u001b[0m\u001b[0;34m\u001b[0m\u001b[0;34m\u001b[0m\u001b[0;34m\u001b[0m\u001b[0m\n\u001b[0m\u001b[1;32m     30\u001b[0m \u001b[0mpin_measurement_integration\u001b[0m \u001b[0;34m=\u001b[0m \u001b[0mpd\u001b[0m\u001b[0;34m.\u001b[0m\u001b[0mDataFrame\u001b[0m\u001b[0;34m(\u001b[0m\u001b[0;34m)\u001b[0m\u001b[0;34m\u001b[0m\u001b[0;34m\u001b[0m\u001b[0m\n\u001b[1;32m     31\u001b[0m \u001b[0mpo_measurement_integration\u001b[0m \u001b[0;34m=\u001b[0m \u001b[0mpd\u001b[0m\u001b[0;34m.\u001b[0m\u001b[0mDataFrame\u001b[0m\u001b[0;34m(\u001b[0m\u001b[0;34m)\u001b[0m\u001b[0;34m\u001b[0m\u001b[0;34m\u001b[0m\u001b[0m\n\u001b[1;32m     32\u001b[0m \u001b[0mpdmp_measurement_integration\u001b[0m \u001b[0;34m=\u001b[0m \u001b[0mpd\u001b[0m\u001b[0;34m.\u001b[0m\u001b[0mDataFrame\u001b[0m\u001b[0;34m(\u001b[0m\u001b[0;34m)\u001b[0m\u001b[0;34m\u001b[0m\u001b[0;34m\u001b[0m\u001b[0m\n",
      "\u001b[0;32m~/Library/Python/3.9/lib/python/site-packages/pandas/core/generic.py\u001b[0m in \u001b[0;36m?\u001b[0;34m(self, method, axis, limit, inplace, limit_direction, limit_area, downcast, **kwargs)\u001b[0m\n\u001b[1;32m   8469\u001b[0m \u001b[0;34m\u001b[0m\u001b[0m\n\u001b[1;32m   8470\u001b[0m         \u001b[0mlimit_direction\u001b[0m \u001b[0;34m=\u001b[0m \u001b[0mmissing\u001b[0m\u001b[0;34m.\u001b[0m\u001b[0minfer_limit_direction\u001b[0m\u001b[0;34m(\u001b[0m\u001b[0mlimit_direction\u001b[0m\u001b[0;34m,\u001b[0m \u001b[0mmethod\u001b[0m\u001b[0;34m)\u001b[0m\u001b[0;34m\u001b[0m\u001b[0;34m\u001b[0m\u001b[0m\n\u001b[1;32m   8471\u001b[0m \u001b[0;34m\u001b[0m\u001b[0m\n\u001b[1;32m   8472\u001b[0m         \u001b[0;32mif\u001b[0m \u001b[0mobj\u001b[0m\u001b[0;34m.\u001b[0m\u001b[0mndim\u001b[0m \u001b[0;34m==\u001b[0m \u001b[0;36m2\u001b[0m \u001b[0;32mand\u001b[0m \u001b[0mnp\u001b[0m\u001b[0;34m.\u001b[0m\u001b[0mall\u001b[0m\u001b[0;34m(\u001b[0m\u001b[0mobj\u001b[0m\u001b[0;34m.\u001b[0m\u001b[0mdtypes\u001b[0m \u001b[0;34m==\u001b[0m \u001b[0mobject\u001b[0m\u001b[0;34m)\u001b[0m\u001b[0;34m:\u001b[0m\u001b[0;34m\u001b[0m\u001b[0;34m\u001b[0m\u001b[0m\n\u001b[0;32m-> 8473\u001b[0;31m             raise TypeError(\n\u001b[0m\u001b[1;32m   8474\u001b[0m                 \u001b[0;34m\"Cannot interpolate with all object-dtype columns \"\u001b[0m\u001b[0;34m\u001b[0m\u001b[0;34m\u001b[0m\u001b[0m\n\u001b[1;32m   8475\u001b[0m                 \u001b[0;34m\"in the DataFrame. Try setting at least one \"\u001b[0m\u001b[0;34m\u001b[0m\u001b[0;34m\u001b[0m\u001b[0m\n\u001b[1;32m   8476\u001b[0m                 \u001b[0;34m\"column to a numeric dtype.\"\u001b[0m\u001b[0;34m\u001b[0m\u001b[0;34m\u001b[0m\u001b[0m\n",
      "\u001b[0;31mTypeError\u001b[0m: Cannot interpolate with all object-dtype columns in the DataFrame. Try setting at least one column to a numeric dtype."
     ]
    }
   ],
   "source": [
    "# Initialize empty DataFrames to store integrated measurements\n",
    "pin_measurement_integration = pd.DataFrame()\n",
    "po_measurement_integration = pd.DataFrame()\n",
    "pdmp_measurement_integration = pd.DataFrame()\n",
    "\n",
    "# Process and integrate measurements from the first 5 files for each type\n",
    "for i in range(5):  # Assume we are processing the first 5 files\n",
    "    pin_measurement = read_file(pin_files[i], column='pin')  # Read and process pin file\n",
    "    po_measurement = read_file(po_files[i], column='po')  # Read and process po file\n",
    "    pdmp_measurement = read_file(pdmp_files[i], column='pdmp')  # Read and process pdmp file\n",
    "\n",
    "    # Concatenate the measurements into the respective integrated DataFrames\n",
    "    pin_measurement_integration = pd.concat([pin_measurement_integration, pin_measurement], axis=0)\n",
    "    po_measurement_integration = pd.concat([po_measurement_integration, po_measurement], axis=0)\n",
    "    pdmp_measurement_integration = pd.concat([pdmp_measurement_integration, pdmp_measurement], axis=0)\n",
    "\n",
    "# Reset index to ensure proper alignment when merging\n",
    "pin_measurement_integration.reset_index(drop=True, inplace=True)\n",
    "po_measurement_integration.reset_index(drop=True, inplace=True)\n",
    "pdmp_measurement_integration.reset_index(drop=True, inplace=True)\n",
    "\n",
    "# Merge the DataFrames based on common columns (cycle, mode, condition)\n",
    "data = pin_measurement_integration[['cycle', 'mode', 'condition']]\n",
    "data['pin'] = pin_measurement_integration['pin']\n",
    "data['po'] = po_measurement_integration['po']\n",
    "data['pdmp'] = pdmp_measurement_integration['pdmp']\n",
    "\n",
    "# Fill missing values using interpolation\n",
    "data.interpolate(method='linear', axis=0, inplace=True)\n",
    "\n",
    "# Convert the data types of specific columns to integers and floats\n",
    "data[['cycle', 'mode', 'condition']] = data[['cycle', 'mode', 'condition']].astype(int)\n",
    "data[['pin', 'po', 'pdmp']] = data[['pin', 'po', 'pdmp']].astype(float)\n",
    "\n",
    "# Save the final integrated DataFrame to a CSV file\n",
    "data.to_csv('/Users/sarithavuppula/Downloads/raw_data(train).csv', index=None)"
   ]
  },
  {
   "cell_type": "code",
   "execution_count": null,
   "metadata": {},
   "outputs": [],
   "source": []
  }
 ],
 "metadata": {
  "kernelspec": {
   "display_name": "Python 3",
   "language": "python",
   "name": "python3"
  },
  "language_info": {
   "codemirror_mode": {
    "name": "ipython",
    "version": 3
   },
   "file_extension": ".py",
   "mimetype": "text/x-python",
   "name": "python",
   "nbconvert_exporter": "python",
   "pygments_lexer": "ipython3",
   "version": "3.9.6"
  }
 },
 "nbformat": 4,
 "nbformat_minor": 2
}
